{
  "cells": [
    {
      "cell_type": "code",
      "execution_count": 17,
      "metadata": {
        "id": "5CvPfjNEA6C2"
      },
      "outputs": [],
      "source": [
        "import torch.nn as nn\n",
        "import torch.nn.functional as F\n",
        "import torch.optim as optim\n",
        "from torch.utils.data import Dataset, DataLoader, Subset\n",
        "from torchvision import transforms, models\n",
        "import torch\n",
        "from PIL import Image\n",
        "import numpy as np\n",
        "\n",
        "import os\n",
        "from datetime import datetime\n",
        "import matplotlib.pyplot as plt\n",
        "\n",
        "import math\n",
        "import shutil\n",
        "from google.colab import drive\n",
        "from PIL import Image\n",
        "\n",
        "from sklearn.metrics import precision_recall_fscore_support, confusion_matrix, ConfusionMatrixDisplay\n",
        "from sklearn.model_selection import train_test_split"
      ]
    },
    {
      "cell_type": "code",
      "execution_count": 2,
      "metadata": {
        "colab": {
          "base_uri": "https://localhost:8080/"
        },
        "id": "bs99Kt46hZcx",
        "outputId": "9850da85-bef1-4102-8bff-bd099af10ddb"
      },
      "outputs": [
        {
          "name": "stdout",
          "output_type": "stream",
          "text": [
            "Mounted at /content/drive\n"
          ]
        }
      ],
      "source": [
        "drive.mount('/content/drive', force_remount=True)"
      ]
    },
    {
      "cell_type": "markdown",
      "metadata": {
        "id": "CV0gLdtjHjo0"
      },
      "source": [
        "**Konstantos**\n"
      ]
    },
    {
      "cell_type": "markdown",
      "metadata": {
        "id": "u9FHXSidHpzb"
      },
      "source": [
        "1.   ```LOAD_CHECKPOINT``` - switch to True to load existing checkpoint from path\n",
        "2.   ```USE_SUBSET``` - switch to True to use a part of dataset (useful for testing purposes)\n",
        "3. ```TRAIN_SUBSET_SIZE``` - define size of train part of dataset\n",
        "4. ```VALID_SUBSET_SIZE``` - define a size of test part of dataset"
      ]
    },
    {
      "cell_type": "markdown",
      "metadata": {
        "id": "b8COkzCgJw7R"
      },
      "source": [
        "**WARNING!!! IMPORTANT!!!**\n",
        "\n",
        "\n",
        "1.   Jei norite bandyti trainint (patestuot) ir nežinote ar gerai bus, geriausia pakeiskite ```CHECKPOINT_FILENAME``` į kokį nors kitą, kad neprarastume rezultatus. ```checkpoint_poultry``` checkpointa naudokime kaip final versiją.\n",
        "\n"
      ]
    },
    {
      "cell_type": "code",
      "execution_count": 18,
      "metadata": {
        "colab": {
          "base_uri": "https://localhost:8080/"
        },
        "id": "dTGJ7y6JR_j1",
        "outputId": "7179b789-5b90-4eab-c127-a75d8ff27ac0"
      },
      "outputs": [
        {
          "name": "stdout",
          "output_type": "stream",
          "text": [
            "Device: cuda:0\n"
          ]
        }
      ],
      "source": [
        "FEATURE_EXTRACTION = True\n",
        "CLASS_LIST = [\"healthy\", \"salmo\", \"cocci\", \"ncd\"]\n",
        "CLASS_INDICES = {'healthy': 0, 'salmo': 1, 'cocci': 2, 'ncd': 3}\n",
        "EPOCH_COUNT = 5\n",
        "TO_RECOGNIZE = 5\n",
        "\n",
        "TRAIN_PART = 0.8\n",
        "LEARNING_RATE = 1e-3\n",
        "\n",
        "LOAD_CHECKPOINT = False\n",
        "ROOT_DIR = \"/content/drive/MyDrive/project\"\n",
        "CHECKPOINT_FILENAME = \"/content/drive/MyDrive/project/checkpoint_poultry.tar\"\n",
        "\n",
        "USE_SUBSET = True\n",
        "TRAIN_SUBSET_SIZE = 50 * len(CLASS_LIST)\n",
        "VALID_SUBSET_SIZE = 15 * len(CLASS_LIST)\n",
        "\n",
        "device = torch.device('cuda:0' if torch.cuda.is_available() else 'cpu')\n",
        "print(f'Device: {device}')"
      ]
    },
    {
      "cell_type": "markdown",
      "metadata": {
        "id": "JlVrZQCCJUc6"
      },
      "source": [
        "**Some helper functions**"
      ]
    },
    {
      "cell_type": "code",
      "execution_count": 4,
      "metadata": {
        "id": "Wium8j3dfrcB"
      },
      "outputs": [],
      "source": [
        "def seconds_to_time(seconds):\n",
        "    s = int(seconds) % 60\n",
        "    m = int(seconds) // 60\n",
        "    if m < 1:\n",
        "        return f'{s}s'\n",
        "    h = m // 60\n",
        "    m = m % 60\n",
        "    if h < 1:\n",
        "        return f'{m}m{s}s'\n",
        "    return f'{h}h{m}m{s}s'"
      ]
    },
    {
      "cell_type": "code",
      "execution_count": 5,
      "metadata": {
        "id": "Vz80tWulfsJT"
      },
      "outputs": [],
      "source": [
        "def load_checkpoint(filename, model, optimizer):\n",
        "    print(\"Loading checkpoint...\")\n",
        "    checkpoint = torch.load(filename)\n",
        "\n",
        "    model.load_state_dict(checkpoint['state_dict'])\n",
        "    optimizer.load_state_dict(checkpoint['optimizer'])\n",
        "\n",
        "    training_history = {\n",
        "        \"epoch\": checkpoint.get(\"epoch\", 0),\n",
        "        \"train_loss_history\": checkpoint.get(\"train_loss_history\", []),\n",
        "        \"accuracy_history\": checkpoint.get(\"accuracy_history\", []),\n",
        "        \"train_accuracy_history\": checkpoint.get(\"train_accuracy_history\", []),\n",
        "        \"val_loss_history\": checkpoint.get(\"val_loss_history\", []),\n",
        "        \"precision_history\": checkpoint.get(\"precision_history\", []),\n",
        "        \"recall_history\": checkpoint.get(\"recall_history\", []),\n",
        "        \"f1_score_history\": checkpoint.get(\"f1_score_history\", []),\n",
        "        \"stats_history\": checkpoint.get(\"stats_history\", []),\n",
        "        \"conf_matrix\": checkpoint.get(\"conf_matrix\", [])\n",
        "    }\n",
        "\n",
        "    return training_history"
      ]
    },
    {
      "cell_type": "markdown",
      "metadata": {
        "id": "nHogcEHHITgn"
      },
      "source": [
        "**Vištų šūdukų datasetas paruoštas klasifikavimo uždaviniui**"
      ]
    },
    {
      "cell_type": "code",
      "execution_count": 6,
      "metadata": {
        "id": "JAuuwK-RVyDC"
      },
      "outputs": [],
      "source": [
        "class PoultryDatasetClassification(Dataset):\n",
        "    def __init__(self, images, labels, transform=None):\n",
        "        self.images = images\n",
        "        self.labels = labels\n",
        "        self.transform = transform\n",
        "\n",
        "    def __len__(self):\n",
        "        return len(self.images)\n",
        "\n",
        "    def __getitem__(self, idx):\n",
        "        img_name = self.images[idx]\n",
        "        image = Image.open(img_name).convert('RGB')\n",
        "\n",
        "        if self.transform:\n",
        "            image = self.transform(image)\n",
        "\n",
        "        label = torch.tensor(self.labels[idx], dtype=torch.float32)\n",
        "        return image, label\n",
        "\n",
        "def create_datasets(root_dir, data_classes, test_size=0.2, random_state=42):\n",
        "    image_paths = []\n",
        "    labels = []\n",
        "    class_indices = {data_class: i for i, data_class in enumerate(data_classes)}\n",
        "\n",
        "    for data_class in data_classes:\n",
        "        images_dir = os.path.join(root_dir, data_class, data_class)\n",
        "        if not os.path.exists(images_dir):\n",
        "            print(f\"Directory does not exist: {images_dir}\")\n",
        "            continue\n",
        "\n",
        "        for img in os.listdir(images_dir):\n",
        "            if img.endswith(\".jpg\"):\n",
        "                image_paths.append(os.path.join(images_dir, img))\n",
        "                label = [0] * len(data_classes)\n",
        "                label[class_indices[data_class]] = 1  # One-hot encoding\n",
        "                labels.append(label)\n",
        "\n",
        "    # Split data while keeping the distribution of classes consistent\n",
        "    img_train, img_test, labels_train, labels_test = train_test_split(\n",
        "        image_paths, labels, test_size=test_size, random_state=random_state, stratify=labels\n",
        "    )\n",
        "\n",
        "    # Applying transformations\n",
        "    transform_train = transforms.Compose([\n",
        "        transforms.Resize((256, 256)),\n",
        "        transforms.RandomCrop(224),\n",
        "        transforms.RandomHorizontalFlip(),\n",
        "        transforms.RandomRotation(15),\n",
        "        transforms.ToTensor(),\n",
        "        transforms.Normalize(mean=[0.485, 0.456, 0.406], std=[0.229, 0.224, 0.225]),\n",
        "    ])\n",
        "\n",
        "\n",
        "    transform_test = transforms.Compose([\n",
        "        transforms.Resize((256, 256)),\n",
        "        transforms.CenterCrop(224),\n",
        "        transforms.ToTensor(),\n",
        "        transforms.Normalize(mean=[0.485, 0.456, 0.406], std=[0.229, 0.224, 0.225]),\n",
        "    ])\n",
        "\n",
        "    # Creating dataset objects for training and testing\n",
        "    train_dataset = PoultryDatasetClassification(img_train, labels_train, transform=transform_train)\n",
        "    test_dataset = PoultryDatasetClassification(img_test, labels_test, transform=transform_test)\n",
        "\n",
        "    return train_dataset, test_dataset\n"
      ]
    },
    {
      "cell_type": "code",
      "execution_count": 7,
      "metadata": {
        "id": "aUr7WiOYQZJc"
      },
      "outputs": [],
      "source": [
        "def train_epoch(model, train_loader, criterion, optimizer):\n",
        "    model.train()\n",
        "\n",
        "    running_train_loss = np.array([], dtype=np.float32)\n",
        "    correct_predictions = 0\n",
        "    total_predictions = 0\n",
        "\n",
        "    for images, labels in train_loader:\n",
        "        images, labels = images.to(device), labels.to(device)\n",
        "        labels_as_indices = torch.argmax(labels, dim=1)\n",
        "\n",
        "        outputs = model(images)\n",
        "\n",
        "        loss = criterion(outputs, labels_as_indices)\n",
        "        running_train_loss = np.append(running_train_loss, loss.cpu().detach().numpy())\n",
        "\n",
        "        optimizer.zero_grad()\n",
        "        loss.backward()\n",
        "        optimizer.step()\n",
        "\n",
        "        predicted = torch.argmax(outputs, axis = 1)\n",
        "        correct_predictions += (predicted == labels_as_indices).sum().item()\n",
        "        total_predictions += labels_as_indices.size(0)\n",
        "\n",
        "    train_loss = np.mean(running_train_loss)\n",
        "    train_accuracy = correct_predictions / total_predictions\n",
        "\n",
        "    return train_loss, train_accuracy"
      ]
    },
    {
      "cell_type": "markdown",
      "metadata": {
        "id": "SDxTycLHIk1E"
      },
      "source": [
        "**Skaičiuojamos metrikos visiems predictionams**"
      ]
    },
    {
      "cell_type": "code",
      "execution_count": 8,
      "metadata": {
        "id": "RLVv08mrYFUu"
      },
      "outputs": [],
      "source": [
        "def calculate_metrics(correct_predictions, total_predictions, y_true, y_pred):\n",
        "    print('Total predictions: ', total_predictions)\n",
        "    print('Correct predictions: ', correct_predictions)\n",
        "\n",
        "    accuracy = correct_predictions / total_predictions\n",
        "    precision, recall, f1, _ = precision_recall_fscore_support(y_true, y_pred, average='weighted')\n",
        "    conf_matrix = confusion_matrix(y_true, y_pred)\n",
        "\n",
        "    return accuracy, precision, recall, f1, conf_matrix"
      ]
    },
    {
      "cell_type": "markdown",
      "metadata": {
        "id": "L80fJFJbIcxF"
      },
      "source": [
        "**Skaičiuojamos metrikos kiekvienai klasei su pasirinktu threshold**"
      ]
    },
    {
      "cell_type": "code",
      "execution_count": 9,
      "metadata": {
        "id": "spyTm781qmjR"
      },
      "outputs": [],
      "source": [
        "def calculate_metrics_per_class(all_confidences, all_true_labels, threshold=0.8):\n",
        "    num_classes = all_true_labels.shape[1]\n",
        "    stats = {}\n",
        "    for class_index in range(num_classes):\n",
        "        predictions = (all_confidences[:, class_index] >= threshold).astype(int)\n",
        "\n",
        "        true_labels = all_true_labels[:, class_index].astype(int)\n",
        "\n",
        "        TP = np.sum((predictions == 1) & (true_labels == 1))\n",
        "        TN = np.sum((predictions == 0) & (true_labels == 0))\n",
        "        FP = np.sum((predictions == 1) & (true_labels == 0))\n",
        "        FN = np.sum((predictions == 0) & (true_labels == 1))\n",
        "\n",
        "        accuracy = (TP + TN) / (TP + TN + FP + FN) if (TP + TN + FP + FN) > 0 else 0\n",
        "        precision = TP / (TP + FP) if (TP + FP) > 0 else 0\n",
        "        recall = TP / (TP + FN) if (TP + FN) > 0 else 0\n",
        "        f1_score = 2 * (precision * recall) / (precision + recall) if (precision + recall) > 0 else 0\n",
        "\n",
        "        stats[class_index] = {\n",
        "            'accuracy': accuracy,\n",
        "            'precision': precision,\n",
        "            'recall': recall,\n",
        "            'f1_score': f1_score\n",
        "        }\n",
        "\n",
        "    return stats"
      ]
    },
    {
      "cell_type": "markdown",
      "metadata": {
        "id": "yRxnHzXOJHJ_"
      },
      "source": [
        "**Evaluation loop'as**"
      ]
    },
    {
      "cell_type": "code",
      "execution_count": 10,
      "metadata": {
        "id": "sxOpZq8vX9Sn"
      },
      "outputs": [],
      "source": [
        "def evaluate_epoch(model, test_loader, criterion, optimizer):\n",
        "    model.eval()\n",
        "    running_val_loss = np.array([], dtype = np.float32)\n",
        "    correct_predictions, total_predictions = 0, 0\n",
        "    y_true, y_pred, all_confidences, all_true_labels = [], [], [], []\n",
        "\n",
        "    with torch.no_grad():\n",
        "        for images, labels in test_loader:\n",
        "            images, labels = images.to(device), labels.to(device)\n",
        "            labels_as_indices = torch.argmax(labels, axis=1).to(device)\n",
        "\n",
        "            outputs = model(images)\n",
        "\n",
        "            confidences = torch.sigmoid(outputs)\n",
        "\n",
        "            val_loss = criterion(outputs, labels_as_indices)\n",
        "            running_val_loss = np.append(running_val_loss, val_loss.cpu().detach().numpy())\n",
        "\n",
        "            predicted = torch.argmax(outputs, axis = 1)\n",
        "\n",
        "            correct_predictions += (predicted == labels_as_indices).sum().item()\n",
        "            total_predictions += labels_as_indices.size(0)\n",
        "\n",
        "            y_true.extend(labels_as_indices.cpu().numpy())\n",
        "            y_pred.extend(predicted.cpu().numpy())\n",
        "\n",
        "            all_confidences.extend(confidences.cpu().numpy())\n",
        "            all_true_labels.extend(labels.cpu().numpy())\n",
        "\n",
        "    all_confidences = np.array(all_confidences)\n",
        "    all_true_labels = np.array(all_true_labels)\n",
        "\n",
        "    stats = calculate_metrics_per_class(all_confidences, all_true_labels, threshold=0.5)\n",
        "\n",
        "    for class_index, class_stats in stats.items():\n",
        "        print(f\"Class {class_index}:\")\n",
        "        print(f\" Accuracy: {class_stats['accuracy']}\")\n",
        "        print(f\" Precision: {class_stats['precision']}\")\n",
        "        print(f\" Recall: {class_stats['recall']}\")\n",
        "        print(f\" F1 Score: {class_stats['f1_score']}\")\n",
        "\n",
        "    return np.mean(running_val_loss), correct_predictions, total_predictions, y_true, y_pred, stats"
      ]
    },
    {
      "cell_type": "markdown",
      "metadata": {
        "id": "x4UCtGgqIt_n"
      },
      "source": [
        "**Pagrindnis loop'as, išsaugom istoriją kad ateityje būtų galima nubraižyt fancy grafikelius**"
      ]
    },
    {
      "cell_type": "code",
      "execution_count": 25,
      "metadata": {
        "id": "92y_R0mPQd7L"
      },
      "outputs": [],
      "source": [
        "def train_and_eval(model, loader_train, loader_valid, filename, epoch_count, lr):\n",
        "  loss_func = torch.nn.CrossEntropyLoss()\n",
        "  optimizer = optim.Adam([\n",
        "      {'params': model.resnet50.parameters(), 'lr': lr * 0.1},\n",
        "      {'params': model.dense1.parameters(), 'lr': lr},\n",
        "      {'params': model.dropout.parameters(), 'lr': lr},\n",
        "      {'params': model.dense2.parameters(), 'lr': lr}\n",
        "  ])\n",
        "\n",
        "  start_time = datetime.now()\n",
        "\n",
        "  training_history = None\n",
        "\n",
        "  if LOAD_CHECKPOINT:\n",
        "      training_history = load_checkpoint(filename, model, optimizer)\n",
        "      start_epoch = training_history['epoch'] + 1\n",
        "      train_loss_history = training_history['train_loss_history']\n",
        "      accuracy_history = training_history['accuracy_history']\n",
        "      train_accuracy_history = training_history['train_accuracy_history']\n",
        "      val_loss_history = training_history['val_loss_history']\n",
        "      precision_history = training_history['precision_history']\n",
        "      recall_history = training_history['recall_history']\n",
        "      f1_score_history = training_history['f1_score_history']\n",
        "      stats_history = training_history['stats_history']\n",
        "      conf_matrix = training_history['conf_matrix']\n",
        "  else:\n",
        "      start_epoch = 0\n",
        "      train_loss_history = []\n",
        "      val_loss_history = []\n",
        "      accuracy_history = []\n",
        "      train_accuracy_history = []\n",
        "      precision_history = []\n",
        "      recall_history = []\n",
        "      f1_score_history = []\n",
        "      stats_history = []\n",
        "      conf_matrix = []\n",
        "\n",
        "  for epoch in range(start_epoch, epoch_count):\n",
        "      print('Starting training epoch... ', epoch)\n",
        "      start_time = datetime.now()\n",
        "\n",
        "      train_loss, train_accuracy = train_epoch(model, loader_train, loss_func, optimizer)\n",
        "\n",
        "      current_time = datetime.now()\n",
        "      elapsed = seconds_to_time((current_time - start_time).total_seconds())\n",
        "      print(f'Epoch: {epoch}, Time: {elapsed}, Loss: {train_loss}')\n",
        "\n",
        "      print('Starting evaluation... ', start_time)\n",
        "      start_time = datetime.now()\n",
        "\n",
        "      avg_val_loss, correct_predictions, total_predictions, y_true, y_pred, stats = evaluate_epoch(model, test_loader, loss_func, optimizer)\n",
        "\n",
        "      accuracy, precision, recall, f1, conf_matrix = calculate_metrics(correct_predictions, total_predictions, y_true, y_pred)\n",
        "\n",
        "      current_time = datetime.now()\n",
        "      per_image = (current_time - start_time).total_seconds() / total_predictions\n",
        "      print(f'Time: {per_image * 1000}ms, Epoch {epoch}, Train Loss: {train_loss:.4f}, Val Loss: {avg_val_loss:.4f}, Accuracy: {accuracy:.4f}, Precision: {precision:.4f}, Recall: {recall:.4f}, F1 score: {f1:.4f}')\n",
        "      print(f'Confusion matrix: {conf_matrix}')\n",
        "\n",
        "      accuracy_history.append(accuracy)\n",
        "      train_accuracy_history.append(train_accuracy)\n",
        "      train_loss_history.append(train_loss)\n",
        "      val_loss_history.append(avg_val_loss)\n",
        "      precision_history.append(precision)\n",
        "      recall_history.append(recall)\n",
        "      f1_score_history.append(f1)\n",
        "      stats_history.append(stats)\n",
        "\n",
        "      print(\"Saving checkpoint...\")\n",
        "      checkpoint = {\n",
        "          \"epoch\": epoch,\n",
        "          \"state_dict\": model.state_dict(),\n",
        "          \"optimizer\": optimizer.state_dict(),\n",
        "          \"train_loss_history\": train_loss_history,\n",
        "          \"accuracy_history\": accuracy_history,\n",
        "          \"train_accuracy_history\": train_accuracy_history,\n",
        "          \"val_loss_history\": val_loss_history,\n",
        "          \"precision_history\": precision_history,\n",
        "          \"recall_history\": recall_history,\n",
        "          \"f1_score_history\": f1_score_history,\n",
        "          \"stats_history\": stats_history,\n",
        "          \"conf_matrix\": conf_matrix\n",
        "      }\n",
        "      torch.save(checkpoint, filename)\n",
        "  return training_history\n"
      ]
    },
    {
      "cell_type": "code",
      "execution_count": 15,
      "metadata": {
        "colab": {
          "base_uri": "https://localhost:8080/"
        },
        "id": "cN81usApf92Z",
        "outputId": "4b050068-c552-43ab-bb7f-f4bb55a09587"
      },
      "outputs": [
        {
          "name": "stdout",
          "output_type": "stream",
          "text": [
            "Train: 200, Test: 60\n"
          ]
        }
      ],
      "source": [
        "train_dataset, test_dataset = create_datasets(ROOT_DIR, CLASS_LIST)\n",
        "\n",
        "if USE_SUBSET:\n",
        "  train_dataset = Subset(train_dataset, range(TRAIN_SUBSET_SIZE))\n",
        "  test_dataset = Subset(test_dataset, range(VALID_SUBSET_SIZE))\n",
        "\n",
        "print(f'Train: {len(train_dataset)}, Test: {len(test_dataset)}')\n",
        "\n",
        "num_workers = 2\n",
        "batch_size = 32\n",
        "\n",
        "train_loader = DataLoader(train_dataset, batch_size = batch_size, num_workers = num_workers, shuffle = True)\n",
        "test_loader = DataLoader(test_dataset, batch_size = batch_size, num_workers = num_workers, shuffle = False)"
      ]
    },
    {
      "cell_type": "markdown",
      "metadata": {
        "id": "2jDVGXtXKS4X"
      },
      "source": [
        "**ResNet50 model modification**"
      ]
    },
    {
      "cell_type": "code",
      "execution_count": 20,
      "metadata": {
        "id": "znqhYWnzQWbN"
      },
      "outputs": [],
      "source": [
        "class PoultryDiseaseClassifier(nn.Module):\n",
        "    def __init__(self):\n",
        "        super(PoultryDiseaseClassifier, self).__init__()\n",
        "        self.resnet50 = resnet50\n",
        "        self.flatten = nn.Flatten()\n",
        "        self.dense1 = nn.Linear(num_ftrs, 256)\n",
        "        self.dropout = nn.Dropout(0.3)\n",
        "        self.dense2 = nn.Linear(256, 4)\n",
        "\n",
        "    def forward(self, x):\n",
        "        x = self.resnet50(x)\n",
        "        x = self.flatten(x)\n",
        "        x = F.relu(self.dense1(x))\n",
        "        x = self.dropout(x)\n",
        "        x = self.dense2(x)\n",
        "        return x"
      ]
    },
    {
      "cell_type": "markdown",
      "metadata": {
        "id": "G78c7hWEKo5n"
      },
      "source": [
        "**Užfreezinti visi parametrai išskyrus paskutinį sluoksnį**"
      ]
    },
    {
      "cell_type": "code",
      "execution_count": 26,
      "metadata": {
        "colab": {
          "base_uri": "https://localhost:8080/"
        },
        "id": "wQUf3uL_QtqJ",
        "outputId": "20882935-041d-4383-bc2d-97f91387af1b"
      },
      "outputs": [
        {
          "name": "stderr",
          "output_type": "stream",
          "text": [
            "/usr/local/lib/python3.10/dist-packages/torchvision/models/_utils.py:208: UserWarning: The parameter 'pretrained' is deprecated since 0.13 and may be removed in the future, please use 'weights' instead.\n",
            "  warnings.warn(\n",
            "/usr/local/lib/python3.10/dist-packages/torchvision/models/_utils.py:223: UserWarning: Arguments other than a weight enum or `None` for 'weights' are deprecated since 0.13 and may be removed in the future. The current behavior is equivalent to passing `weights=ResNet50_Weights.IMAGENET1K_V1`. You can also use `weights=ResNet50_Weights.DEFAULT` to get the most up-to-date weights.\n",
            "  warnings.warn(msg)\n"
          ]
        },
        {
          "name": "stdout",
          "output_type": "stream",
          "text": [
            "Parameter count: 24,033,604\n",
            "Starting training epoch...  0\n"
          ]
        },
        {
          "name": "stderr",
          "output_type": "stream",
          "text": [
            "/usr/lib/python3.10/multiprocessing/popen_fork.py:66: RuntimeWarning: os.fork() was called. os.fork() is incompatible with multithreaded code, and JAX is multithreaded, so this will likely lead to a deadlock.\n",
            "  self.pid = os.fork()\n",
            "/usr/lib/python3.10/multiprocessing/popen_fork.py:66: RuntimeWarning: os.fork() was called. os.fork() is incompatible with multithreaded code, and JAX is multithreaded, so this will likely lead to a deadlock.\n",
            "  self.pid = os.fork()\n"
          ]
        },
        {
          "name": "stdout",
          "output_type": "stream",
          "text": [
            "Epoch: 0, Time: 12s, Loss: 1.233386754989624\n",
            "Starting evaluation...  2024-05-17 11:18:14.152932\n",
            "Class 0:\n",
            " Accuracy: 0.8\n",
            " Precision: 0.6333333333333333\n",
            " Recall: 0.95\n",
            " F1 Score: 0.7599999999999999\n",
            "Class 1:\n",
            " Accuracy: 0.5666666666666667\n",
            " Precision: 0.43478260869565216\n",
            " Recall: 1.0\n",
            " F1 Score: 0.6060606060606061\n",
            "Class 2:\n",
            " Accuracy: 0.5666666666666667\n",
            " Precision: 0.38095238095238093\n",
            " Recall: 1.0\n",
            " F1 Score: 0.5517241379310345\n",
            "Class 3:\n",
            " Accuracy: 0.9333333333333333\n",
            " Precision: 0\n",
            " Recall: 0.0\n",
            " F1 Score: 0\n",
            "Total predictions:  60\n",
            "Correct predictions:  46\n",
            "Time: 60.473683333333334ms, Epoch 0, Train Loss: 1.2334, Val Loss: 0.6088, Accuracy: 0.7667, Precision: 0.7512, Recall: 0.7667, F1 score: 0.7414\n",
            "Confusion matrix: [[17  1  2  0]\n",
            " [ 2 13  5  0]\n",
            " [ 0  0 16  0]\n",
            " [ 0  1  3  0]]\n",
            "Saving checkpoint...\n"
          ]
        },
        {
          "name": "stderr",
          "output_type": "stream",
          "text": [
            "/usr/local/lib/python3.10/dist-packages/sklearn/metrics/_classification.py:1344: UndefinedMetricWarning: Precision and F-score are ill-defined and being set to 0.0 in labels with no predicted samples. Use `zero_division` parameter to control this behavior.\n",
            "  _warn_prf(average, modifier, msg_start, len(result))\n"
          ]
        },
        {
          "name": "stdout",
          "output_type": "stream",
          "text": [
            "Starting training epoch...  1\n"
          ]
        },
        {
          "name": "stderr",
          "output_type": "stream",
          "text": [
            "/usr/lib/python3.10/multiprocessing/popen_fork.py:66: RuntimeWarning: os.fork() was called. os.fork() is incompatible with multithreaded code, and JAX is multithreaded, so this will likely lead to a deadlock.\n",
            "  self.pid = os.fork()\n",
            "/usr/lib/python3.10/multiprocessing/popen_fork.py:66: RuntimeWarning: os.fork() was called. os.fork() is incompatible with multithreaded code, and JAX is multithreaded, so this will likely lead to a deadlock.\n",
            "  self.pid = os.fork()\n"
          ]
        },
        {
          "name": "stdout",
          "output_type": "stream",
          "text": [
            "Epoch: 1, Time: 13s, Loss: 0.7037754058837891\n",
            "Starting evaluation...  2024-05-17 11:18:31.419248\n",
            "Class 0:\n",
            " Accuracy: 0.9333333333333333\n",
            " Precision: 0.8333333333333334\n",
            " Recall: 1.0\n",
            " F1 Score: 0.9090909090909091\n",
            "Class 1:\n",
            " Accuracy: 0.6166666666666667\n",
            " Precision: 0.46511627906976744\n",
            " Recall: 1.0\n",
            " F1 Score: 0.6349206349206349\n",
            "Class 2:\n",
            " Accuracy: 0.7833333333333333\n",
            " Precision: 0.5517241379310345\n",
            " Recall: 1.0\n",
            " F1 Score: 0.7111111111111111\n",
            "Class 3:\n",
            " Accuracy: 0.9333333333333333\n",
            " Precision: 0\n",
            " Recall: 0.0\n",
            " F1 Score: 0\n",
            "Total predictions:  60\n",
            "Correct predictions:  53\n",
            "Time: 55.39886666666667ms, Epoch 1, Train Loss: 0.7038, Val Loss: 0.2460, Accuracy: 0.8833, Precision: 0.8343, Recall: 0.8833, F1 score: 0.8546\n",
            "Confusion matrix: [[18  2  0  0]\n",
            " [ 0 19  1  0]\n",
            " [ 0  0 16  0]\n",
            " [ 0  3  1  0]]\n",
            "Saving checkpoint...\n"
          ]
        },
        {
          "name": "stderr",
          "output_type": "stream",
          "text": [
            "/usr/local/lib/python3.10/dist-packages/sklearn/metrics/_classification.py:1344: UndefinedMetricWarning: Precision and F-score are ill-defined and being set to 0.0 in labels with no predicted samples. Use `zero_division` parameter to control this behavior.\n",
            "  _warn_prf(average, modifier, msg_start, len(result))\n"
          ]
        },
        {
          "name": "stdout",
          "output_type": "stream",
          "text": [
            "Starting training epoch...  2\n"
          ]
        },
        {
          "name": "stderr",
          "output_type": "stream",
          "text": [
            "/usr/lib/python3.10/multiprocessing/popen_fork.py:66: RuntimeWarning: os.fork() was called. os.fork() is incompatible with multithreaded code, and JAX is multithreaded, so this will likely lead to a deadlock.\n",
            "  self.pid = os.fork()\n",
            "/usr/lib/python3.10/multiprocessing/popen_fork.py:66: RuntimeWarning: os.fork() was called. os.fork() is incompatible with multithreaded code, and JAX is multithreaded, so this will likely lead to a deadlock.\n",
            "  self.pid = os.fork()\n"
          ]
        },
        {
          "name": "stdout",
          "output_type": "stream",
          "text": [
            "Epoch: 2, Time: 14s, Loss: 0.28554970026016235\n",
            "Starting evaluation...  2024-05-17 11:18:49.849632\n",
            "Class 0:\n",
            " Accuracy: 0.95\n",
            " Precision: 1.0\n",
            " Recall: 0.85\n",
            " F1 Score: 0.9189189189189189\n",
            "Class 1:\n",
            " Accuracy: 0.8666666666666667\n",
            " Precision: 0.7307692307692307\n",
            " Recall: 0.95\n",
            " F1 Score: 0.8260869565217392\n",
            "Class 2:\n",
            " Accuracy: 0.5666666666666667\n",
            " Precision: 0.38095238095238093\n",
            " Recall: 1.0\n",
            " F1 Score: 0.5517241379310345\n",
            "Class 3:\n",
            " Accuracy: 0.95\n",
            " Precision: 0.6\n",
            " Recall: 0.75\n",
            " F1 Score: 0.6666666666666665\n",
            "Total predictions:  60\n",
            "Correct predictions:  52\n",
            "Time: 66.12228333333334ms, Epoch 2, Train Loss: 0.2855, Val Loss: 0.3866, Accuracy: 0.8667, Precision: 0.8244, Recall: 0.8667, F1 score: 0.8385\n",
            "Confusion matrix: [[17  1  2  0]\n",
            " [ 0 19  1  0]\n",
            " [ 0  0 16  0]\n",
            " [ 0  2  2  0]]\n",
            "Saving checkpoint...\n"
          ]
        },
        {
          "name": "stderr",
          "output_type": "stream",
          "text": [
            "/usr/local/lib/python3.10/dist-packages/sklearn/metrics/_classification.py:1344: UndefinedMetricWarning: Precision and F-score are ill-defined and being set to 0.0 in labels with no predicted samples. Use `zero_division` parameter to control this behavior.\n",
            "  _warn_prf(average, modifier, msg_start, len(result))\n"
          ]
        },
        {
          "name": "stdout",
          "output_type": "stream",
          "text": [
            "Starting training epoch...  3\n"
          ]
        },
        {
          "name": "stderr",
          "output_type": "stream",
          "text": [
            "/usr/lib/python3.10/multiprocessing/popen_fork.py:66: RuntimeWarning: os.fork() was called. os.fork() is incompatible with multithreaded code, and JAX is multithreaded, so this will likely lead to a deadlock.\n",
            "  self.pid = os.fork()\n",
            "/usr/lib/python3.10/multiprocessing/popen_fork.py:66: RuntimeWarning: os.fork() was called. os.fork() is incompatible with multithreaded code, and JAX is multithreaded, so this will likely lead to a deadlock.\n",
            "  self.pid = os.fork()\n"
          ]
        },
        {
          "name": "stdout",
          "output_type": "stream",
          "text": [
            "Epoch: 3, Time: 14s, Loss: 0.19707337021827698\n",
            "Starting evaluation...  2024-05-17 11:19:09.104742\n",
            "Class 0:\n",
            " Accuracy: 0.9666666666666667\n",
            " Precision: 0.9090909090909091\n",
            " Recall: 1.0\n",
            " F1 Score: 0.9523809523809523\n",
            "Class 1:\n",
            " Accuracy: 0.8833333333333333\n",
            " Precision: 0.76\n",
            " Recall: 0.95\n",
            " F1 Score: 0.8444444444444444\n",
            "Class 2:\n",
            " Accuracy: 0.8\n",
            " Precision: 0.5714285714285714\n",
            " Recall: 1.0\n",
            " F1 Score: 0.7272727272727273\n",
            "Class 3:\n",
            " Accuracy: 0.9666666666666667\n",
            " Precision: 0.75\n",
            " Recall: 0.75\n",
            " F1 Score: 0.75\n",
            "Total predictions:  60\n",
            "Correct predictions:  54\n",
            "Time: 62.29803333333333ms, Epoch 3, Train Loss: 0.1971, Val Loss: 0.1958, Accuracy: 0.9000, Precision: 0.8416, Recall: 0.9000, F1 score: 0.8692\n",
            "Confusion matrix: [[19  1  0  0]\n",
            " [ 0 19  1  0]\n",
            " [ 0  0 16  0]\n",
            " [ 1  2  1  0]]\n",
            "Saving checkpoint...\n"
          ]
        },
        {
          "name": "stderr",
          "output_type": "stream",
          "text": [
            "/usr/local/lib/python3.10/dist-packages/sklearn/metrics/_classification.py:1344: UndefinedMetricWarning: Precision and F-score are ill-defined and being set to 0.0 in labels with no predicted samples. Use `zero_division` parameter to control this behavior.\n",
            "  _warn_prf(average, modifier, msg_start, len(result))\n"
          ]
        },
        {
          "name": "stdout",
          "output_type": "stream",
          "text": [
            "Starting training epoch...  4\n"
          ]
        },
        {
          "name": "stderr",
          "output_type": "stream",
          "text": [
            "/usr/lib/python3.10/multiprocessing/popen_fork.py:66: RuntimeWarning: os.fork() was called. os.fork() is incompatible with multithreaded code, and JAX is multithreaded, so this will likely lead to a deadlock.\n",
            "  self.pid = os.fork()\n",
            "/usr/lib/python3.10/multiprocessing/popen_fork.py:66: RuntimeWarning: os.fork() was called. os.fork() is incompatible with multithreaded code, and JAX is multithreaded, so this will likely lead to a deadlock.\n",
            "  self.pid = os.fork()\n"
          ]
        },
        {
          "name": "stdout",
          "output_type": "stream",
          "text": [
            "Epoch: 4, Time: 12s, Loss: 0.11161620169878006\n",
            "Starting evaluation...  2024-05-17 11:19:28.453613\n",
            "Class 0:\n",
            " Accuracy: 0.9333333333333333\n",
            " Precision: 0.8333333333333334\n",
            " Recall: 1.0\n",
            " F1 Score: 0.9090909090909091\n",
            "Class 1:\n",
            " Accuracy: 0.8\n",
            " Precision: 0.625\n",
            " Recall: 1.0\n",
            " F1 Score: 0.7692307692307693\n",
            "Class 2:\n",
            " Accuracy: 0.95\n",
            " Precision: 0.8421052631578947\n",
            " Recall: 1.0\n",
            " F1 Score: 0.9142857142857143\n",
            "Class 3:\n",
            " Accuracy: 0.95\n",
            " Precision: 0.5714285714285714\n",
            " Recall: 1.0\n",
            " F1 Score: 0.7272727272727273\n",
            "Total predictions:  60\n",
            "Correct predictions:  56\n",
            "Time: 88.72266666666667ms, Epoch 4, Train Loss: 0.1116, Val Loss: 0.1484, Accuracy: 0.9333, Precision: 0.9379, Recall: 0.9333, F1 score: 0.9294\n",
            "Confusion matrix: [[19  1  0  0]\n",
            " [ 1 19  0  0]\n",
            " [ 0  0 16  0]\n",
            " [ 0  2  0  2]]\n",
            "Saving checkpoint...\n"
          ]
        }
      ],
      "source": [
        "filename = CHECKPOINT_FILENAME\n",
        "\n",
        "resnet50 = models.resnet50(pretrained=True)\n",
        "\n",
        "num_ftrs = resnet50.fc.in_features\n",
        "resnet50.fc = nn.Identity()\n",
        "\n",
        "model = PoultryDiseaseClassifier()\n",
        "model.to(device)\n",
        "\n",
        "print(f'Parameter count: {sum(p.numel() for p in model.parameters() if p.requires_grad):,}')\n",
        "training_history = train_and_eval(model, train_loader, test_loader, filename, epoch_count = EPOCH_COUNT, lr = LEARNING_RATE)"
      ]
    },
    {
      "cell_type": "markdown",
      "metadata": {
        "id": "89VFfJK2Pdgo"
      },
      "source": [
        "**Statistiku atvaizdavimas**"
      ]
    },
    {
      "cell_type": "code",
      "execution_count": 27,
      "metadata": {
        "colab": {
          "base_uri": "https://localhost:8080/",
          "height": 1000
        },
        "id": "mFW0StkhPhb2",
        "outputId": "908241ae-c051-4d73-bbc2-3629b402ebc1"
      },
      "outputs": [
        {
          "name": "stderr",
          "output_type": "stream",
          "text": [
            "/usr/local/lib/python3.10/dist-packages/torchvision/models/_utils.py:208: UserWarning: The parameter 'pretrained' is deprecated since 0.13 and may be removed in the future, please use 'weights' instead.\n",
            "  warnings.warn(\n",
            "/usr/local/lib/python3.10/dist-packages/torchvision/models/_utils.py:223: UserWarning: Arguments other than a weight enum or `None` for 'weights' are deprecated since 0.13 and may be removed in the future. The current behavior is equivalent to passing `weights=ResNet50_Weights.IMAGENET1K_V1`. You can also use `weights=ResNet50_Weights.DEFAULT` to get the most up-to-date weights.\n",
            "  warnings.warn(msg)\n"
          ]
        },
        {
          "name": "stdout",
          "output_type": "stream",
          "text": [
            "Loading checkpoint...\n"
          ]
        },
        {
          "data": {
            "image/png": "[encoded data removed]",
            "text/plain": [
              "<Figure size 640x480 with 1 Axes>"
            ]
          },
          "metadata": {},
          "output_type": "display_data"
        },
        {
          "data": {
            "image/png": "[encoded data removed]",
            "text/plain": [
              "<Figure size 640x480 with 1 Axes>"
            ]
          },
          "metadata": {},
          "output_type": "display_data"
        },
        {
          "data": {
            "image/png": "[encoded data removed]",
            "text/plain": [
              "<Figure size 640x480 with 2 Axes>"
            ]
          },
          "metadata": {},
          "output_type": "display_data"
        }
      ],
      "source": [
        "resnet50 = models.resnet50(pretrained=True)\n",
        "\n",
        "num_ftrs = resnet50.fc.in_features\n",
        "resnet50.fc = nn.Identity()\n",
        "\n",
        "model = PoultryDiseaseClassifier()\n",
        "model.to(device)\n",
        "\n",
        "optimizer = optim.Adam([\n",
        "    {'params': model.resnet50.parameters(), 'lr': LEARNING_RATE * 0.1},\n",
        "    {'params': model.dense1.parameters(), 'lr': LEARNING_RATE},\n",
        "    {'params': model.dropout.parameters(), 'lr': LEARNING_RATE},\n",
        "    {'params': model.dense2.parameters(), 'lr': LEARNING_RATE}\n",
        "])\n",
        "\n",
        "training_history = load_checkpoint(CHECKPOINT_FILENAME, model, optimizer)\n",
        "\n",
        "train_accuracy_history = training_history['train_accuracy_history']\n",
        "accuracy_history = training_history['accuracy_history']\n",
        "train_loss_history = training_history['train_loss_history']\n",
        "val_loss_history = training_history['val_loss_history']\n",
        "conf_matrix = training_history['conf_matrix']\n",
        "\n",
        "plt.plot(train_accuracy_history, label='Train Accuracy')\n",
        "plt.plot(accuracy_history, label='Validation Accuracy')\n",
        "plt.xlabel('Epoch')\n",
        "plt.ylabel('Accuracy')\n",
        "plt.legend()\n",
        "plt.title('Training and Validation Accuracy')\n",
        "plt.show()\n",
        "\n",
        "plt.plot(train_loss_history, label='Train Loss')\n",
        "plt.plot(val_loss_history, label='Validation Loss')\n",
        "plt.xlabel('Epoch')\n",
        "plt.ylabel('Loss')\n",
        "plt.legend()\n",
        "plt.title('Training and Validation Loss')\n",
        "plt.show()\n",
        "\n",
        "if isinstance(conf_matrix, list):\n",
        "    last_conf_matrix = np.array(conf_matrix[-1])\n",
        "else:\n",
        "    last_conf_matrix = np.array(conf_matrix)\n",
        "\n",
        "disp = ConfusionMatrixDisplay(confusion_matrix=last_conf_matrix, display_labels=CLASS_LIST)\n",
        "disp.plot(cmap=plt.cm.Blues)\n",
        "plt.title('Confusion Matrix')\n",
        "plt.show()"
      ]
    }
  ],
  "metadata": {
    "accelerator": "GPU",
    "colab": {
      "gpuType": "T4",
      "provenance": []
    },
    "kernelspec": {
      "display_name": "Python 3",
      "name": "python3"
    },
    "language_info": {
      "name": "python"
    }
  },
  "nbformat": 4,
  "nbformat_minor": 0
}
